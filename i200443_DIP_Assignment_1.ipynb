{
  "cells": [
    {
      "cell_type": "code",
      "execution_count": null,
      "metadata": {
        "colab": {
          "base_uri": "https://localhost:8080/"
        },
        "id": "4zUztTZ1pQ2f",
        "outputId": "0ce1495e-69a0-4613-a3c4-49825fdcf011"
      },
      "outputs": [
        {
          "output_type": "stream",
          "name": "stdout",
          "text": [
            "Mounted at /content/drive\n"
          ]
        }
      ],
      "source": [
        "from google.colab import drive\n",
        "drive.mount('/content/drive')"
      ]
    },
    {
      "cell_type": "code",
      "execution_count": null,
      "metadata": {
        "colab": {
          "base_uri": "https://localhost:8080/"
        },
        "id": "pDZILJx9sGxJ",
        "outputId": "896e96c6-efbe-43d6-d447-e2b39a0bbe7a"
      },
      "outputs": [
        {
          "name": "stdout",
          "output_type": "stream",
          "text": [
            "Reading package lists... Done\n",
            "Building dependency tree... Done\n",
            "Reading state information... Done\n",
            "unrar is already the newest version (1:6.1.5-1).\n",
            "0 upgraded, 0 newly installed, 0 to remove and 18 not upgraded.\n"
          ]
        }
      ],
      "source": [
        "!sudo apt-get install unrar\n"
      ]
    },
    {
      "cell_type": "code",
      "execution_count": null,
      "metadata": {
        "id": "rVXQRDdNqqIw"
      },
      "outputs": [],
      "source": [
        "path = 'drive/My Drive/Dataset'"
      ]
    },
    {
      "cell_type": "code",
      "execution_count": null,
      "metadata": {
        "colab": {
          "base_uri": "https://localhost:8080/"
        },
        "id": "Ga-DQxn1skzj",
        "outputId": "20db4185-705d-41a4-ccbb-8233b8ecfea0"
      },
      "outputs": [
        {
          "name": "stdout",
          "output_type": "stream",
          "text": [
            "Changed directory to: /content/drive/My Drive/Dataset\n"
          ]
        }
      ],
      "source": [
        "import os\n",
        "\n",
        "# Define the path\n",
        "path = '/content/drive/My Drive/Dataset'\n",
        "\n",
        "# Check if the path exists\n",
        "if os.path.exists(path):\n",
        "    # Change the current directory to the specified path\n",
        "    os.chdir(path)\n",
        "    print(f\"Changed directory to: {path}\")\n",
        "else:\n",
        "    print(f\"The path {path} does not exist.\")"
      ]
    },
    {
      "cell_type": "code",
      "execution_count": null,
      "metadata": {
        "colab": {
          "base_uri": "https://localhost:8080/"
        },
        "id": "O1QVOGcIszpI",
        "outputId": "69e79ccf-41fb-43a9-9c4d-3de8116ca44a"
      },
      "outputs": [
        {
          "name": "stdout",
          "output_type": "stream",
          "text": [
            "\n",
            "UNRAR 6.11 beta 1 freeware      Copyright (c) 1993-2022 Alexander Roshal\n",
            "\n",
            "\n",
            "Extracting from data.rar\n",
            "\n",
            "Creating    data                                                      OK\n",
            "Extracting  data/fig1.jpg                                                \b\b\b\b  1%\b\b\b\b\b  OK \n",
            "Extracting  data/fig2.jpg                                                \b\b\b\b  7%\b\b\b\b\b  OK \n",
            "Extracting  data/fig3.jpg                                                \b\b\b\b 29%\b\b\b\b\b  OK \n",
            "Extracting  data/fig4.jpg                                                \b\b\b\b 53%\b\b\b\b\b  OK \n",
            "Extracting  data/fig5.jpg                                                \b\b\b\b 74%\b\b\b\b\b  OK \n",
            "Extracting  data/fig5_blur.jpg                                           \b\b\b\b 89%\b\b\b\b\b  OK \n",
            "Extracting  data/finger-bones.jpg                                        \b\b\b\b 98%\b\b\b\b\b  OK \n",
            "Extracting  data/rect1.jpg                                               \b\b\b\b 99%\b\b\b\b\b  OK \n",
            "All OK\n"
          ]
        }
      ],
      "source": [
        "!unrar x data.rar"
      ]
    },
    {
      "cell_type": "code",
      "execution_count": null,
      "metadata": {
        "colab": {
          "base_uri": "https://localhost:8080/",
          "height": 311
        },
        "id": "6waepTPnvMs4",
        "outputId": "93e973bd-cfb1-4374-b47f-80000d8b4682"
      },
      "outputs": [
        {
          "name": "stdout",
          "output_type": "stream",
          "text": [
            "Drive already mounted at /content/drive; to attempt to forcibly remount, call drive.mount(\"/content/drive\", force_remount=True).\n"
          ]
        },
        {
          "data": {
            "image/png": "[encoded data removed]",
            "text/plain": [
              "<PIL.Image.Image image mode=RGB size=379x277>"
            ]
          },
          "metadata": {},
          "output_type": "display_data"
        }
      ],
      "source": [
        "from google.colab import drive\n",
        "from google.colab.patches import cv2_imshow  # Use cv2_imshow instead of cv2.imshow\n",
        "import cv2\n",
        "\n",
        "# Mount Google Drive\n",
        "drive.mount('/content/drive')\n",
        "\n",
        "# Specify the path to the image file\n",
        "#pathofImg = '/content/drive/My Drive/Dataset/data/rect1.jpg'\n",
        "\n",
        "# Read the image\n",
        "img = cv2.imread(pathofImg)\n",
        "\n",
        "# Check if the image was loaded successfully\n",
        "if img is not None:\n",
        "    cv2_imshow(img)  # Display the image\n",
        "else:\n",
        "    print(f\"Error: Could not read the image at {pathofImg}\")\n",
        "\n"
      ]
    },
    {
      "cell_type": "markdown",
      "metadata": {
        "id": "xewgPIttOBGO"
      },
      "source": [
        "Question 1"
      ]
    },
    {
      "cell_type": "code",
      "execution_count": null,
      "metadata": {
        "colab": {
          "base_uri": "https://localhost:8080/",
          "height": 346
        },
        "id": "TpQIZCeN-Hbp",
        "outputId": "0a7657e7-94f1-42de-bece-6663f11aa25d"
      },
      "outputs": [
        {
          "name": "stdout",
          "output_type": "stream",
          "text": [
            "Parameters: Perimeter = 654.00, Area = 25610.00\n",
            "Centroid: X = 175, Y = 136\n",
            "Shape: Rectangle\n"
          ]
        },
        {
          "data": {
            "image/png": "[encoded data removed]",
            "text/plain": [
              "<PIL.Image.Image image mode=L size=379x277>"
            ]
          },
          "metadata": {},
          "output_type": "display_data"
        }
      ],
      "source": [
        "import cv2\n",
        "\n",
        "def classify_shape(contour):\n",
        "    # Calculate the bounding rectangle around the contour\n",
        "    x, y, w, h = cv2.boundingRect(contour)\n",
        "\n",
        "    # Calculate the aspect ratio of the bounding rectangle\n",
        "    aspect_ratio = float(w) / h\n",
        "\n",
        "    # Define the threshold for classifying as square or rectangle\n",
        "    threshold = 0.1  # Adjust this value as needed\n",
        "\n",
        "    # Classify the shape based on the aspect ratio\n",
        "    if abs(aspect_ratio - 1) <= threshold:\n",
        "        return \"Square\"\n",
        "    else:\n",
        "        return \"Rectangle\"\n",
        "\n",
        "# Load the image\n",
        "image = cv2.imread('/content/drive/My Drive/Dataset/data/rect1.jpg', 0)  # Replace 'your_image_file.jpg' with your actual image file\n",
        "\n",
        "# Apply thresholding to convert the image to binary\n",
        "_, binary_image = cv2.threshold(image, 127, 255, cv2.THRESH_BINARY)\n",
        "\n",
        "# Find contours in the binary image\n",
        "contours, _ = cv2.findContours(binary_image, cv2.RETR_EXTERNAL, cv2.CHAIN_APPROX_SIMPLE)\n",
        "\n",
        "# Iterate over the contours\n",
        "for contour in contours:\n",
        "    # Approximate the contour to a polygon\n",
        "    epsilon = 0.02 * cv2.arcLength(contour, True)\n",
        "    approx = cv2.approxPolyDP(contour, epsilon, True)\n",
        "\n",
        "    # Classify the shape based on the aspect ratio\n",
        "    shape = classify_shape(approx)\n",
        "\n",
        "    # Calculate perimeter and area of the contour\n",
        "    perimeter = cv2.arcLength(approx, True)\n",
        "    area = cv2.contourArea(approx)\n",
        "\n",
        "    # Calculate centroid of the contour\n",
        "    M = cv2.moments(approx)\n",
        "    centroid_x = int(M['m10'] / M['m00'])\n",
        "    centroid_y = int(M['m01'] / M['m00'])\n",
        "\n",
        "    # Display the parameters, centroid, and shape classification\n",
        "    print(\"Parameters: Perimeter = {:.2f}, Area = {:.2f}\".format(perimeter, area))\n",
        "    print(\"Centroid: X = {}, Y = {}\".format(centroid_x, centroid_y))\n",
        "    print(\"Shape: {}\".format(shape))\n",
        "\n",
        "    # Draw the contour, centroid, and shape classification on the image\n",
        "    cv2.drawContours(image, [approx], 0, (0, 255, 0), 2)\n",
        "    cv2.circle(image, (centroid_x, centroid_y), 5, (0, 0, 255), -1)\n",
        "    cv2.putText(image, shape, (centroid_x - 50, centroid_y - 20), cv2.FONT_HERSHEY_SIMPLEX, 0.7, (255, 255, 255), 2)\n",
        "\n",
        "# Display the image\n",
        "cv2_imshow(image)\n",
        "cv2.waitKey(0)\n",
        "cv2.destroyAllWindows()"
      ]
    },
    {
      "cell_type": "markdown",
      "metadata": {
        "id": "_sJD1KisN-Xd"
      },
      "source": [
        "Question 3"
      ]
    },
    {
      "cell_type": "code",
      "execution_count": null,
      "metadata": {
        "colab": {
          "base_uri": "https://localhost:8080/"
        },
        "id": "hhn7_VxhMjhU",
        "outputId": "abffd255-26e7-4304-c60c-3831dccb08f0"
      },
      "outputs": [
        {
          "name": "stdout",
          "output_type": "stream",
          "text": [
            "Edge strength of Image 1: 266.94750082627405\n",
            "Edge strength of Image 2: 255.25046440925993\n",
            "Image 1 is clearer than Image 2.\n"
          ]
        }
      ],
      "source": [
        "import cv2\n",
        "import numpy as np\n",
        "\n",
        "def sobel_edge_detection(image):\n",
        "\n",
        "\n",
        "  sobelx = cv2.Sobel(image, cv2.CV_64F, 1, 0, ksize=5)\n",
        "  sobely = cv2.Sobel(image, cv2.CV_64F, 0, 1, ksize=5)\n",
        "  sobel_mag = np.sqrt(sobelx**2 + sobely**2)\n",
        "  return sobel_mag\n",
        "\n",
        "def compare_images(image1, image2):\n",
        "\n",
        "\n",
        "  sobel_mag1 = sobel_edge_detection(image1)\n",
        "  sobel_mag2 = sobel_edge_detection(image2)\n",
        "\n",
        "  # Compute the average edge strength for each image.\n",
        "  avg_edge_strength1 = np.mean(sobel_mag1)\n",
        "  avg_edge_strength2 = np.mean(sobel_mag2)\n",
        "\n",
        "  # Print the edge strength and the results.\n",
        "  print(\"Edge strength of Image 1:\", avg_edge_strength1)\n",
        "  print(\"Edge strength of Image 2:\", avg_edge_strength2)\n",
        "\n",
        "  # The image with the higher average edge strength is clearer.\n",
        "  if avg_edge_strength1 > avg_edge_strength2:\n",
        "    print(\"Image 1 is clearer than Image 2.\")\n",
        "  elif avg_edge_strength1 < avg_edge_strength2:\n",
        "    print(\"Image 2 is clearer than Image 1.\")\n",
        "  else:\n",
        "    print(\"Both images are equally clear (or blurry).\")\n",
        "\n",
        "# Load the images.\n",
        "image1 = cv2.imread(\"/content/drive/My Drive/Dataset/data/fig5.jpg\", cv2.IMREAD_GRAYSCALE)\n",
        "image2 = cv2.imread(\"/content/drive/My Drive/Dataset/data/fig5_blur.jpg\", cv2.IMREAD_GRAYSCALE)\n",
        "\n",
        "# Compare the images and print the result.\n",
        "compare_images(image1, image2)\n"
      ]
    },
    {
      "cell_type": "markdown",
      "metadata": {
        "id": "0IAymxp8iIb7"
      },
      "source": [
        "Question 2"
      ]
    },
    {
      "cell_type": "code",
      "execution_count": null,
      "metadata": {
        "colab": {
          "base_uri": "https://localhost:8080/",
          "height": 527
        },
        "id": "83g6SIwUekYF",
        "outputId": "a2796319-2117-406e-f611-4f1862f8c35b"
      },
      "outputs": [
        {
          "name": "stdout",
          "output_type": "stream",
          "text": [
            "The number of black pixels in the image is greater, and it is a girl.\n",
            "Number of Black Pixels: 98139\n"
          ]
        },
        {
          "data": {
            "image/png": "[encoded data removed]",
            "text/plain": [
              "<PIL.Image.Image image mode=L size=558x475>"
            ]
          },
          "metadata": {},
          "output_type": "display_data"
        }
      ],
      "source": [
        "import cv2\n",
        "import numpy as np\n",
        "from google.colab.patches import cv2_imshow\n",
        "\n",
        "def count_black_pixels(image):\n",
        "    \"\"\"Counts the number of black pixels in an image.\n",
        "\n",
        "    Args:\n",
        "        image: A grayscale image.\n",
        "\n",
        "    Returns:\n",
        "        The number of black pixels in the image.\n",
        "    \"\"\"\n",
        "    black_pixels = np.sum(image == 0)\n",
        "    return black_pixels\n",
        "\n",
        "def compare_black_pixel_counts(image1, image2):\n",
        "    \"\"\"Compares the number of black pixels in two images and outputs the image with more black pixels.\n",
        "\n",
        "    Args:\n",
        "        image1: A grayscale image.\n",
        "        image2: A grayscale image.\n",
        "\n",
        "    Returns:\n",
        "        The image with more black pixels and the number of black pixels.\n",
        "    \"\"\"\n",
        "    black_pixel_count1 = count_black_pixels(image1)\n",
        "    black_pixel_count2 = count_black_pixels(image2)\n",
        "\n",
        "    if black_pixel_count1 > black_pixel_count2:\n",
        "        return image1, black_pixel_count1\n",
        "    elif black_pixel_count2 > black_pixel_count1:\n",
        "        return image2, black_pixel_count2\n",
        "    else:\n",
        "        return None, black_pixel_count1  # Both images have the same number of black pixels\n",
        "\n",
        "# Read the two images\n",
        "image1 = cv2.imread(\"/content/drive/My Drive/Dataset/data/fig3.jpg\", cv2.IMREAD_GRAYSCALE)\n",
        "image2 = cv2.imread(\"/content/drive/My Drive/Dataset/data/fig4.jpg\", cv2.IMREAD_GRAYSCALE)\n",
        "\n",
        "# Apply a threshold to the images to binarize them\n",
        "threshold = 128\n",
        "_, image1_thresh = cv2.threshold(image1, threshold, 255, cv2.THRESH_BINARY)\n",
        "_, image2_thresh = cv2.threshold(image2, threshold, 255, cv2.THRESH_BINARY)\n",
        "\n",
        "# Compare the number of black pixels in the two images and output the image with more black pixels\n",
        "image_with_more_black_pixels, black_pixel_count = compare_black_pixel_counts(image1_thresh, image2_thresh)\n",
        "\n",
        "# Output the result\n",
        "if image_with_more_black_pixels is not None:\n",
        "    print(f\"The number of black pixels in the image is greater, and it is a girl.\")\n",
        "    print(f\"Number of Black Pixels: {black_pixel_count}\")\n",
        "    cv2_imshow(image_with_more_black_pixels)\n",
        "    cv2.waitKey(0)\n",
        "else:\n",
        "    print(\"The two images have the same number of black pixels.\")\n"
      ]
    },
    {
      "cell_type": "code",
      "source": [],
      "metadata": {
        "id": "wSFvkJh671n6"
      },
      "execution_count": null,
      "outputs": []
    },
    {
      "cell_type": "code",
      "execution_count": null,
      "metadata": {
        "colab": {
          "base_uri": "https://localhost:8080/",
          "height": 365
        },
        "id": "QW3l-s37eJN0",
        "outputId": "0176d56e-b4e1-46ba-ccad-1fff09e8cdc5"
      },
      "outputs": [
        {
          "name": "stdout",
          "output_type": "stream",
          "text": [
            "Number of Contours: 3\n",
            "Number of Detected Regions: 3\n"
          ]
        },
        {
          "data": {
            "image/png": "[encoded data removed]",
            "text/plain": [
              "<PIL.Image.Image image mode=RGB size=320x313>"
            ]
          },
          "metadata": {},
          "output_type": "display_data"
        }
      ],
      "source": [
        "import cv2\n",
        "import numpy as np\n",
        "from google.colab.patches import cv2_imshow\n",
        "\n",
        "# Load the image\n",
        "image = cv2.imread(\"/content/drive/My Drive/Dataset/data/fig1.jpg\")\n",
        "\n",
        "# Convert the image to the HSV color space\n",
        "hsv_image = cv2.cvtColor(image, cv2.COLOR_BGR2HSV)\n",
        "\n",
        "# Extract the saturation channel\n",
        "saturation = hsv_image[:, :, 1]\n",
        "\n",
        "# Apply adaptive thresholding to segment the image into regions\n",
        "threshold = cv2.adaptiveThreshold(saturation, 255, cv2.ADAPTIVE_THRESH_GAUSSIAN_C, cv2.THRESH_BINARY, 15, 2)\n",
        "\n",
        "# Find contours in the thresholded image\n",
        "contours, _ = cv2.findContours(threshold, cv2.RETR_EXTERNAL, cv2.CHAIN_APPROX_SIMPLE)\n",
        "\n",
        "# Initialize a list to store detected regions\n",
        "detected_regions = []\n",
        "\n",
        "# Iterate through each contour\n",
        "for contour in contours:\n",
        "    # Calculate area\n",
        "    area = cv2.contourArea(contour)\n",
        "\n",
        "    # Filter out small contours\n",
        "    if area < 100:\n",
        "        continue\n",
        "\n",
        "    # Add the detected region to the list\n",
        "    detected_regions.append((area, contour))\n",
        "\n",
        "# Print the number of contours and detected regions\n",
        "print(\"Number of Contours:\", len(contours))\n",
        "print(\"Number of Detected Regions:\", len(detected_regions))\n",
        "\n",
        "# Draw all detected contours on the image (for debugging)\n",
        "cv2.drawContours(image, contours, -1, (0, 255, 0), 2)\n",
        "\n",
        "\n",
        "# Annotate the image with the areas and centroids of the detected regions\n",
        "for idx, (area, contour) in enumerate(detected_regions):\n",
        "    M = cv2.moments(contour)\n",
        "    if M[\"m00\"] != 0:\n",
        "        centroid_x = int(M[\"m10\"] / M[\"m00\"])\n",
        "        centroid_y = int(M[\"m01\"] / M[\"m00\"])\n",
        "\n",
        "        cv2.putText(image, f'{area}', (centroid_x, centroid_y), cv2.FONT_HERSHEY_SIMPLEX, 0.5, (255, 255, 255), 1)\n",
        "        cv2.circle(image, (centroid_x, centroid_y), 5, (255, 255, 255), -1)\n",
        "\n",
        "# Save or display the annotated image\n",
        "cv2.imwrite('annotated_image.jpg', image)\n",
        "cv2_imshow(image)\n",
        "cv2.waitKey(0)\n",
        "cv2.destroyAllWindows()\n"
      ]
    },
    {
      "cell_type": "markdown",
      "source": [
        "Question 4"
      ],
      "metadata": {
        "id": "zPP4rnjB0CJx"
      }
    },
    {
      "cell_type": "code",
      "source": [
        "from google.colab.patches import cv2_imshow\n",
        "import cv2\n",
        "import numpy as np\n",
        "\n",
        "def calculate_areas_of_bars(image_path):\n",
        "    # Read the image\n",
        "    image = cv2.imread(image_path)\n",
        "\n",
        "    # Define the regions of interest (ROIs) for each color bar\n",
        "    roi_coords = [\n",
        "        (0, 0, image.shape[1] // 4, image.shape[0]),  # First bar\n",
        "        (image.shape[1] // 4, 0, image.shape[1] // 4, image.shape[0]),  # Second bar\n",
        "        (image.shape[1] // 2, 0, image.shape[1] // 4, image.shape[0]),  # Third bar\n",
        "        (3 * image.shape[1] // 4, 0, image.shape[1] // 4, image.shape[0])  # Fourth bar\n",
        "    ]\n",
        "\n",
        "    # Initialize a list to store the areas\n",
        "    areas = []\n",
        "\n",
        "    # Loop through each ROI to calculate area\n",
        "    for i, (x, y, w, h) in enumerate(roi_coords):\n",
        "        # Extract the ROI for each color bar\n",
        "        roi = image[y:y+h, x:x+w]\n",
        "\n",
        "        # Convert the ROI to grayscale\n",
        "        gray_roi = cv2.cvtColor(roi, cv2.COLOR_BGR2GRAY)\n",
        "\n",
        "        # Threshold the ROI to create a binary mask\n",
        "        _, thresholded = cv2.threshold(gray_roi, 1, 255, cv2.THRESH_BINARY)\n",
        "\n",
        "        # Find contours in the binary mask\n",
        "        contours, _ = cv2.findContours(thresholded, cv2.RETR_EXTERNAL, cv2.CHAIN_APPROX_SIMPLE)\n",
        "\n",
        "        # Calculate the area and centroid of the contour in the ROI\n",
        "        for contour in contours:\n",
        "            area = cv2.contourArea(contour)\n",
        "\n",
        "            # Exclude small noise regions (adjust as needed)\n",
        "            if area > 100:\n",
        "                areas.append(area)\n",
        "\n",
        "                # Draw a bounding rectangle around the bar in the original image\n",
        "                cv2.rectangle(image, (x, y), (x + w, y + h), (0, 0, 255), 1)\n",
        "\n",
        "                # Calculate the centroid of the contour\n",
        "                M = cv2.moments(contour)\n",
        "                centroid_x = int(M['m10'] / M['m00']) + x  # Adjust centroid x-coordinate by adding x\n",
        "                centroid_y = int(M['m01'] / M['m00']) + y  # Adjust centroid y-coordinate by adding y\n",
        "\n",
        "                # Annotate the area at the centroid of the contour\n",
        "                cv2.putText(image, f'{area}', (centroid_x, centroid_y), cv2.FONT_HERSHEY_SIMPLEX, 0.5, (255, 255, 255), 1)\n",
        "                cv2.circle(image, (centroid_x, centroid_y), 5, (255, 255, 255), -1)\n",
        "\n",
        "    # Show the image with annotations\n",
        "    cv2_imshow(image)\n",
        "\n",
        "# Usage\n",
        "image_path = '/content/drive/My Drive/Dataset/data/fig1.jpg'\n",
        "calculate_areas_of_bars(image_path)\n"
      ],
      "metadata": {
        "colab": {
          "base_uri": "https://localhost:8080/",
          "height": 330
        },
        "id": "WR9y-G2Ty6lD",
        "outputId": "83f8daf7-6fa8-4314-8786-81cab0b9225a"
      },
      "execution_count": null,
      "outputs": [
        {
          "output_type": "display_data",
          "data": {
            "text/plain": [
              "<PIL.Image.Image image mode=RGB size=320x313>"
            ],
            "image/png": "[encoded data removed]"
          },
          "metadata": {}
        }
      ]
    },
    {
      "cell_type": "markdown",
      "source": [
        "Question 5"
      ],
      "metadata": {
        "id": "HD4SFlw_7LkY"
      }
    },
    {
      "cell_type": "code",
      "source": [
        "from google.colab.patches import cv2_imshow\n",
        "import cv2\n",
        "import numpy as np\n",
        "\n",
        "def calculate_areas_and_percentages(image_path):\n",
        "    # Read the image\n",
        "    image = cv2.imread(image_path)\n",
        "\n",
        "    # Define the color range for the red arrow (adjust as needed)\n",
        "    lower_red = np.array([0, 0, 150])  # Lower BGR threshold for red\n",
        "    upper_red = np.array([100, 100, 255])  # Upper BGR threshold for red\n",
        "\n",
        "    # Define the regions of interest (ROIs) for each color bar\n",
        "    roi_coords = [\n",
        "        (0, 0, image.shape[1] // 4, image.shape[0]),  # First bar\n",
        "        (image.shape[1] // 4, 0, image.shape[1] // 4, image.shape[0]),  # Second bar\n",
        "        (image.shape[1] // 2, 0, image.shape[1] // 4, image.shape[0]),  # Third bar\n",
        "        (3 * image.shape[1] // 4, 0, image.shape[1] // 4, image.shape[0])  # Fourth bar\n",
        "    ]\n",
        "\n",
        "    # Initialize lists to store the areas and percentages\n",
        "    areas = []\n",
        "    percentages = []\n",
        "\n",
        "    # Loop through each ROI to calculate area and percentage\n",
        "    for i, (x, y, w, h) in enumerate(roi_coords):\n",
        "        # Extract the ROI for each color bar\n",
        "        roi = image[y:y+h, x:x+w]\n",
        "\n",
        "        # Convert the ROI to grayscale\n",
        "        gray_roi = cv2.cvtColor(roi, cv2.COLOR_BGR2GRAY)\n",
        "\n",
        "        # Threshold the ROI to create a binary mask\n",
        "        _, thresholded = cv2.threshold(gray_roi, 1, 255, cv2.THRESH_BINARY)\n",
        "\n",
        "        # Find contours in the binary mask\n",
        "        contours, _ = cv2.findContours(thresholded, cv2.RETR_EXTERNAL, cv2.CHAIN_APPROX_SIMPLE)\n",
        "\n",
        "        # Calculate the area of the contour in the ROI\n",
        "        for contour in contours:\n",
        "            area = cv2.contourArea(contour)\n",
        "\n",
        "            # Exclude small noise regions (adjust as needed)\n",
        "            if area > 100:\n",
        "                areas.append(area)\n",
        "\n",
        "                # Create a mask for the red arrow within the ROI\n",
        "                mask = cv2.inRange(roi, lower_red, upper_red)\n",
        "\n",
        "                # Calculate the area covered by the red arrow\n",
        "                arrow_area = np.sum(mask == 255)\n",
        "\n",
        "                # Calculate the percentage area covered by the arrow\n",
        "                percentage = (arrow_area / area) * 100\n",
        "                percentages.append(percentage)\n",
        "\n",
        "                # Display the segmented red arrow (debugging purposes)\n",
        "                cv2_imshow(mask)\n",
        "\n",
        "    return areas, percentages\n",
        "\n",
        "# Usage\n",
        "image_path = '/content/drive/My Drive/Dataset/data/fig2.jpg'\n",
        "areas, percentages = calculate_areas_and_percentages(image_path)\n",
        "\n",
        "for i, (area, percentage) in enumerate(zip(areas, percentages)):\n",
        "    print(f\"Bar {i + 1} - Area: {area}, Percentage Covered by Red Arrow: {percentage:.2f}%\")\n"
      ],
      "metadata": {
        "colab": {
          "base_uri": "https://localhost:8080/",
          "height": 1000
        },
        "id": "huZsy6tP31Kr",
        "outputId": "b9b965d0-38ad-4d36-c71d-20f1fc855d48"
      },
      "execution_count": null,
      "outputs": [
        {
          "output_type": "display_data",
          "data": {
            "text/plain": [
              "<PIL.Image.Image image mode=L size=80x313>"
            ],
            "image/png": "[encoded data removed]"
          },
          "metadata": {}
        },
        {
          "output_type": "display_data",
          "data": {
            "text/plain": [
              "<PIL.Image.Image image mode=L size=80x313>"
            ],
            "image/png": "[encoded data removed]"
          },
          "metadata": {}
        },
        {
          "output_type": "display_data",
          "data": {
            "text/plain": [
              "<PIL.Image.Image image mode=L size=80x313>"
            ],
            "image/png": "[encoded data removed]"
          },
          "metadata": {}
        },
        {
          "output_type": "display_data",
          "data": {
            "text/plain": [
              "<PIL.Image.Image image mode=L size=80x313>"
            ],
            "image/png": "[encoded data removed]"
          },
          "metadata": {}
        },
        {
          "output_type": "stream",
          "name": "stdout",
          "text": [
            "Bar 1 - Area: 24648.0, Percentage Covered by Red Arrow: 10.47%\n",
            "Bar 2 - Area: 24648.0, Percentage Covered by Red Arrow: 20.45%\n",
            "Bar 3 - Area: 24648.0, Percentage Covered by Red Arrow: 28.35%\n",
            "Bar 4 - Area: 24648.0, Percentage Covered by Red Arrow: 6.41%\n"
          ]
        }
      ]
    },
    {
      "cell_type": "markdown",
      "source": [
        "Question 6"
      ],
      "metadata": {
        "id": "NzjXKLCr8FlB"
      }
    },
    {
      "cell_type": "code",
      "source": [
        "import cv2\n",
        "import numpy as np\n",
        "from google.colab.patches import cv2_imshow\n",
        "\n",
        "# Load the image\n",
        "image = cv2.imread(\"/content/drive/My Drive/Dataset/data/finger-bones.jpg\")\n",
        "\n",
        "# Convert the image to the HSV color space\n",
        "hsv_image = cv2.cvtColor(image, cv2.COLOR_BGR2HSV)\n",
        "\n",
        "# Define the HSV ranges for each color\n",
        "color_ranges = [\n",
        "    ((90, 50, 50), (130, 255, 255), \"Blue\"),\n",
        "    ((5, 50, 50), (25, 255, 255), \"Peach\"),\n",
        "    ((35, 50, 50), (85, 255, 255), \"Green\")\n",
        "]\n",
        "\n",
        "# Create a directory to save segmented images\n",
        "import os\n",
        "os.makedirs('segmented_images', exist_ok=True)\n",
        "\n",
        "# Iterate over each color range and segment the image\n",
        "for lower_bound, upper_bound, color_name in color_ranges:\n",
        "    # Create a mask for the current color range\n",
        "    mask = cv2.inRange(hsv_image, np.array(lower_bound), np.array(upper_bound))\n",
        "\n",
        "    # Find contours in the mask\n",
        "    contours, _ = cv2.findContours(mask, cv2.RETR_EXTERNAL, cv2.CHAIN_APPROX_SIMPLE)\n",
        "\n",
        "    # Filter out small contours based on a minimum area threshold\n",
        "    min_area_threshold = 100  # Adjust this threshold as needed\n",
        "    filtered_contours = [contour for contour in contours if cv2.contourArea(contour) >= min_area_threshold]\n",
        "\n",
        "    # Print the number of areas identified for the current color\n",
        "    print(f'Number of {color_name} areas identified: {len(filtered_contours)}')\n",
        "\n",
        "    # Iterate over each segment and save it as a separate image\n",
        "    for i, contour in enumerate(filtered_contours):\n",
        "        # Create a mask for the current segment\n",
        "        segment_mask = np.zeros_like(mask)\n",
        "        cv2.drawContours(segment_mask, [contour], 0, 255, -1)\n",
        "\n",
        "        # Find the bounding box of the current segment\n",
        "        x, y, w, h = cv2.boundingRect(contour)\n",
        "\n",
        "        # Draw a green bounding box around the segment\n",
        "        cv2.rectangle(image, (x, y), (x + w, y + h), (0, 255, 0), 2)\n",
        "\n",
        "        # Apply the mask to the original image to extract the segment\n",
        "        segmented_image = cv2.bitwise_and(image, image, mask=segment_mask)\n",
        "\n",
        "        # Save the segmented image with a unique name\n",
        "        segment_filename = f'segmented_images/{color_name}_segment_{i}.jpg'\n",
        "        cv2.imwrite(segment_filename, segmented_image)\n",
        "\n",
        "        # Display the segmented image using cv2_imshow\n",
        "        cv2_imshow(segmented_image)\n",
        "\n",
        "        # Determine the width and height of the current bone\n",
        "        bone_width = w\n",
        "        bone_height = h\n",
        "\n",
        "        # Display the maximum width and maximum height of the current bone\n",
        "        print(f'{color_name} Bone {i + 1}:')\n",
        "        print(f'Maximum width: {bone_width}')\n",
        "        print(f'Maximum height: {bone_height}')\n",
        "\n",
        "# Display the original image with bounding boxes\n",
        "cv2_imshow(image)\n"
      ],
      "metadata": {
        "colab": {
          "base_uri": "https://localhost:8080/",
          "height": 1000
        },
        "id": "521UPXln73k1",
        "outputId": "ff21b1df-f195-4925-f842-eb7ce5578581"
      },
      "execution_count": null,
      "outputs": [
        {
          "output_type": "stream",
          "name": "stdout",
          "text": [
            "Number of Blue areas identified: 2\n"
          ]
        },
        {
          "output_type": "display_data",
          "data": {
            "text/plain": [
              "<PIL.Image.Image image mode=RGB size=96x342>"
            ],
            "image/png": "[encoded data removed]"
          },
          "metadata": {}
        },
        {
          "output_type": "stream",
          "name": "stdout",
          "text": [
            "Blue Bone 1:\n",
            "Maximum width: 45\n",
            "Maximum height: 127\n"
          ]
        },
        {
          "output_type": "display_data",
          "data": {
            "text/plain": [
              "<PIL.Image.Image image mode=RGB size=96x342>"
            ],
            "image/png": "[encoded data removed]"
          },
          "metadata": {}
        },
        {
          "output_type": "stream",
          "name": "stdout",
          "text": [
            "Blue Bone 2:\n",
            "Maximum width: 23\n",
            "Maximum height: 38\n",
            "Number of Peach areas identified: 2\n"
          ]
        },
        {
          "output_type": "display_data",
          "data": {
            "text/plain": [
              "<PIL.Image.Image image mode=RGB size=96x342>"
            ],
            "image/png": "[encoded data removed]"
          },
          "metadata": {}
        },
        {
          "output_type": "stream",
          "name": "stdout",
          "text": [
            "Peach Bone 1:\n",
            "Maximum width: 32\n",
            "Maximum height: 30\n"
          ]
        },
        {
          "output_type": "display_data",
          "data": {
            "text/plain": [
              "<PIL.Image.Image image mode=RGB size=96x342>"
            ],
            "image/png": "[encoded data removed]"
          },
          "metadata": {}
        },
        {
          "output_type": "stream",
          "name": "stdout",
          "text": [
            "Peach Bone 2:\n",
            "Maximum width: 26\n",
            "Maximum height: 53\n",
            "Number of Green areas identified: 1\n"
          ]
        },
        {
          "output_type": "display_data",
          "data": {
            "text/plain": [
              "<PIL.Image.Image image mode=RGB size=96x342>"
            ],
            "image/png": "[encoded data removed]"
          },
          "metadata": {}
        },
        {
          "output_type": "stream",
          "name": "stdout",
          "text": [
            "Green Bone 1:\n",
            "Maximum width: 35\n",
            "Maximum height: 79\n"
          ]
        },
        {
          "output_type": "display_data",
          "data": {
            "text/plain": [
              "<PIL.Image.Image image mode=RGB size=96x342>"
            ],
            "image/png": "[encoded data removed]"
          },
          "metadata": {}
        }
      ]
    }
  ],
  "metadata": {
    "colab": {
      "provenance": []
    },
    "kernelspec": {
      "display_name": "Python 3",
      "name": "python3"
    },
    "language_info": {
      "name": "python"
    }
  },
  "nbformat": 4,
  "nbformat_minor": 0
}